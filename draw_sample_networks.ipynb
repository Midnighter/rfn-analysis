{
 "metadata": {
  "name": "draw_sample_networks"
 },
 "nbformat": 3,
 "nbformat_minor": 0,
 "worksheets": [
  {
   "cells": [
    {
     "cell_type": "code",
     "collapsed": false,
     "input": [
      "import rfn_analysis as ra"
     ],
     "language": "python",
     "metadata": {},
     "outputs": []
    },
    {
     "cell_type": "code",
     "collapsed": false,
     "input": [
      "import os"
     ],
     "language": "python",
     "metadata": {},
     "outputs": []
    },
    {
     "cell_type": "code",
     "collapsed": false,
     "input": [
      "base_dir = os.path.expanduser(\"~/Dropbox/Publications/RFNModularity/Data\")"
     ],
     "language": "python",
     "metadata": {},
     "outputs": []
    },
    {
     "cell_type": "code",
     "collapsed": false,
     "input": [
      "import networkx as nx"
     ],
     "language": "python",
     "metadata": {},
     "outputs": []
    },
    {
     "cell_type": "code",
     "collapsed": false,
     "input": [
      "from glob import glob"
     ],
     "language": "python",
     "metadata": {},
     "outputs": []
    },
    {
     "cell_type": "code",
     "collapsed": false,
     "input": [
      "net = nx.read_gpickle(os.path.join(base_dir, \"setups/phase_2/medium/node_robust/sim1551_final.gpickle.bz2\"))\n",
      "net.draw_layers(os.path.join(base_dir, \"../EPJB/example_network.eps\"));"
     ],
     "language": "python",
     "metadata": {},
     "outputs": []
    },
    {
     "cell_type": "code",
     "collapsed": false,
     "input": [
      "for complexity in [\"low\", \"medium\", \"high\"]:\n",
      "    for rob_type in [\"link\", \"node\", \"noise\"]:\n",
      "        for (i, filename) in enumerate(glob(os.path.join(base_dir,\n",
      "                \"setups/phase_2/%s/%s_robust/*.bz2\" % (complexity, rob_type)))):\n",
      "            net = nx.read_gpickle(filename)\n",
      "            net.draw_modules(os.path.join(base_dir,\n",
      "                    \"../EPJB/%s_robust_%s_complexity_sample_network_%d.eps\" % (rob_type, complexity, i + 1)),\n",
      "                    spectral_partition=True)"
     ],
     "language": "python",
     "metadata": {},
     "outputs": []
    },
    {
     "cell_type": "code",
     "collapsed": false,
     "input": [
      "for complexity in [\"2.2\", \"4.0\", \"9.3\", \"12.9\"]:\n",
      "    for (i, filename) in enumerate(glob(os.path.join(base_dir, \"complexity/phase_1/%s/*.bz2\" % (complexity)))):\n",
      "        net = nx.read_gpickle(filename)\n",
      "        net.draw_modules(os.path.join(base_dir,\n",
      "                \"../EPJB/phase_1_%s_complexity_sample_network_%d.eps\" % (complexity, i + 1)),\n",
      "                spectral_partition=True)"
     ],
     "language": "python",
     "metadata": {},
     "outputs": []
    },
    {
     "cell_type": "code",
     "collapsed": false,
     "input": [
      "for complexity in [\"2.2\", \"4.0\", \"9.3\", \"12.9\"]:\n",
      "    for rob_type in [\"link\", \"node\", \"noise\"]:\n",
      "        for (i, filename) in enumerate(glob(os.path.join(base_dir,\n",
      "                \"complexity/phase_2/%s/%s_robust/*.bz2\" % (complexity, rob_type)))):\n",
      "            net = nx.read_gpickle(filename)\n",
      "            net.draw_modules(os.path.join(base_dir,\n",
      "                    \"../EPJB/%s_robust_%s_complexity_sample_network_%d.eps\" % (rob_type, complexity, i + 1)),\n",
      "                    spectral_partition=True)"
     ],
     "language": "python",
     "metadata": {},
     "outputs": []
    }
   ],
   "metadata": {}
  }
 ]
}