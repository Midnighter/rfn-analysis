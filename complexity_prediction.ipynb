{
 "metadata": {
  "name": "complexity_prediction"
 },
 "nbformat": 3,
 "nbformat_minor": 0,
 "worksheets": [
  {
   "cells": [
    {
     "cell_type": "markdown",
     "metadata": {},
     "source": [
      "# Estimating the Mean and Variance for our Complexity Measure #\n",
      "\n",
      "Currently, we define our complexity measure $c$ in the following way:\n",
      "  \n",
      "\\begin{align}\n",
      "c &= \\dfrac{ N_{in} \\left( N_{in} - 1 \\right) }{ 2 \\displaystyle\\sum\\limits_{i=1}^{N_{in} - 1} \\displaystyle\\sum\\limits_{j = i + 1}^{N_{in}} \\vec{q_{i}} \\cdot \\vec{q_{j}} }.\n",
      "\\end{align}\n",
      "\n",
      "The current estimate for the mean of this value is based on the random processes involved in creating the output pattern matrix and is:\n",
      "\n",
      "\\begin{align}\n",
      "c &= \\dfrac{1}{ \\displaystyle\\sum\\limits_{m=1}^{K}{ \\dfrac{m}{4} \\cdot \\dfrac{ \\dbinom{N_{out} - K}{m} }{ \\dbinom{N_{out}}{K} } } }.\n",
      "\\end{align}\n",
      "\n",
      "Unfortunately, the above RHS-term does not capture the random process appropriately!"
     ]
    },
    {
     "cell_type": "code",
     "collapsed": true,
     "input": [
      "import numpy\n",
      "from meb.utils.mathfuncs import binomial_coefficient"
     ],
     "language": "python",
     "metadata": {},
     "outputs": [],
     "prompt_number": 1
    },
    {
     "cell_type": "code",
     "collapsed": true,
     "input": [
      "def predict_complexity(n_in, n_out, k):\n",
      "    \"\"\"\n",
      "    Compute the predicted mean and variance for a randomly set up output pattern\n",
      "    with a certain parameter setting.\n",
      "\n",
      "    Parameters\n",
      "    ----------\n",
      "    n_in: int\n",
      "        Number of input nodes.\n",
      "    n_out: int\n",
      "        Number of output nodes.\n",
      "    k: int\n",
      "        Number of activated output nodes.\n",
      "    \"\"\"\n",
      "    denominator = binomial_coefficient(n_out, k) * float(k)\n",
      "    nominator = sum(binomial_coefficient(n_out - k, m) * m for m in range(1, k + 1))\n",
      "    return numpy.reciprocal(nominator / denominator)"
     ],
     "language": "python",
     "metadata": {},
     "outputs": [],
     "prompt_number": 4
    },
    {
     "cell_type": "markdown",
     "metadata": {},
     "source": [
      "Prediction with $N_{out} = 8$ and $K = 4$:"
     ]
    },
    {
     "cell_type": "code",
     "collapsed": false,
     "input": [
      "predict_complexity(8, 8, 4)"
     ],
     "language": "python",
     "metadata": {},
     "outputs": [
      {
       "output_type": "pyout",
       "prompt_number": 5,
       "text": [
        "8.75"
       ]
      }
     ],
     "prompt_number": 5
    },
    {
     "cell_type": "markdown",
     "metadata": {},
     "source": [
      "Prediction with $N_{out} = 8$ and $K = 2$:"
     ]
    },
    {
     "cell_type": "code",
     "collapsed": false,
     "input": [
      "predict_complexity(8, 8, 2)"
     ],
     "language": "python",
     "metadata": {},
     "outputs": [
      {
       "output_type": "pyout",
       "prompt_number": 6,
       "text": [
        "1.5555555555555554"
       ]
      }
     ],
     "prompt_number": 6
    },
    {
     "cell_type": "markdown",
     "metadata": {},
     "source": [
      "Prediction with $N_{out} = 8$ and $K = 6$:"
     ]
    },
    {
     "cell_type": "code",
     "collapsed": false,
     "input": [
      "predict_complexity(8, 8, 6)"
     ],
     "language": "python",
     "metadata": {},
     "outputs": [
      {
       "output_type": "pyout",
       "prompt_number": 7,
       "text": [
        "42.0"
       ]
      }
     ],
     "prompt_number": 7
    },
    {
     "cell_type": "code",
     "collapsed": true,
     "input": [
      "def simple_prediction(n_in, n_out, k):\n",
      "    p = numpy.power(float(k)/n_out, 2)\n",
      "    mean = n_out * p\n",
      "    var = n_out * p * (1.0 - p)\n",
      "    return result"
     ],
     "language": "python",
     "metadata": {},
     "outputs": [],
     "prompt_number": 14
    },
    {
     "cell_type": "code",
     "collapsed": false,
     "input": [
      "simple_prediction(8, 8, 4)"
     ],
     "language": "python",
     "metadata": {},
     "outputs": [
      {
       "output_type": "stream",
       "stream": "stdout",
       "text": [
        "0.25"
       ]
      },
      {
       "output_type": "pyout",
       "prompt_number": 15,
       "text": [
        "0.086517333984375"
       ]
      }
     ],
     "prompt_number": 15
    }
   ],
   "metadata": {}
  }
 ]
}